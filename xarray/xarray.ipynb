{
 "cells": [
  {
   "cell_type": "markdown",
   "metadata": {},
   "source": [
    "# 多次元データ解析ライブラリ　xarray\n",
    "\n",
    "この記事では、多次元データ解析を支援するPythonのライブラリxarrayを紹介します。\n",
    "さらに詳しい情報は本家の[情報](http://xarray.pydata.org/en/stable/)を参照してください。"
   ]
  },
  {
   "cell_type": "markdown",
   "metadata": {},
   "source": [
    "# xarrayの特徴\n",
    "## 背景\n",
    "科学計測データは往々にして多次元になります。\n",
    "例えば、複数の位置に設置したセンサで時系列データを計測する場合、\n",
    "計測データは 空間チャンネル方向 × 時間方向 の二次元データになります。\n",
    "さらにそのデータに短時間フーリエ変換を施す場合は 空間チャンネル方向 × 時間方向 × 周波数方向 の三次元データになったりします。\n",
    "\n",
    "一般的にこういうデータを扱う場合、numpy の np.ndarray を使うことが多いと思います。\n",
    "しかし、np.ndarray は単純な行列（もしくはテンソル）なので他の情報は別途置いておく必要があります。\n",
    "上の例だと、\n",
    "+ 次元の順番：二次元データのうち1次元目が空間チャンネル、二次元目が時間に対応すること\n",
    "+ 各次元の座標\n",
    "\n",
    "などがここで言う「他の情報」にあたります。\n",
    "\n",
    "そのため、例えばその中のデータからある時間範囲の一部切り出して使う、というような場合は\n",
    "切り出したデータの他に、時間軸のデータも同時に切り出しておく必要があります。\n",
    "\n",
    "素の np.ndarray を使ってそれをきっちりやっていく、ってことももちろんできるんですが、\n",
    "複雑なプログラムだとこのような煩雑な操作はミスの元になります。\n",
    "\n",
    "xarray はそういった操作を簡単にするためのライブラリです。  \n",
    "（ちなみに内部では np.ndarray を用いているので、np.ndarrayの高速な演算性能をほとんど犠牲にしません）\n",
    "なお、一次元のデータを扱うライブラリとしてpandasがあります。\n",
    "pandasは多次元のデータを（簡単には）扱えません。xarrayはそれを補間するライブラリになっています。\n",
    "\n",
    "特徴としては上記の他に\n",
    "+ `__str__` メソッドがオーバーロードされていて、print したときにその概要を表示してくれる。\n",
    "+ 位置インデクシング・スライシング（例えば、ある時刻に最も近いときのデータを探すなど）が可能。\n",
    "その結果もxarrayオブジェクトになり、軸に関する情報も正しく保有してくれる。\n",
    "+ 簡単な統計処理（移動平均など）が可能。軸に関する情報も正しく保有してくれる。\n",
    "+ pandas との相互変換が可能\n",
    "+ メモリに載り切らない巨大なデータにも対応している（らしい）\n",
    "\n",
    "などがあります。"
   ]
  },
  {
   "cell_type": "markdown",
   "metadata": {},
   "source": [
    "ちなみに、"
   ]
  },
  {
   "cell_type": "code",
   "execution_count": 1,
   "metadata": {
    "ExecuteTime": {
     "end_time": "2017-02-15T09:24:57.989818",
     "start_time": "2017-02-15T09:24:57.972665"
    },
    "collapsed": false
   },
   "outputs": [
    {
     "data": {
      "text/plain": [
       "'0.9.1'"
      ]
     },
     "execution_count": 1,
     "metadata": {},
     "output_type": "execute_result"
    }
   ],
   "source": [
    "import numpy as np\n",
    "import xarray as xr\n",
    "xr.__version__"
   ]
  },
  {
   "cell_type": "markdown",
   "metadata": {},
   "source": [
    "と言う風に、`xr`と略すことが一般的なようです。"
   ]
  },
  {
   "cell_type": "markdown",
   "metadata": {},
   "source": [
    "## データタイプ\n",
    "主には xr.DataArray, xr.Dataset の2つのデータタイプをサポートしています。\n",
    "\n",
    "### xr.DataArray\n",
    "xr.DataArray は上記で述べた多次元のデータです。\n",
    "内部には軸の値とラベルのペアである順序付き辞書型 `coords` および、その他の情報を格納する`attrs`という順序付き辞書型を有しています。\n",
    "\n",
    "`__get_item__` メソッドをオーバーロードしているので、da[i,j]というようにnp.ndarrayと同じようにアクセスすることができます。\n",
    "ただし戻り値も xr.DataArray オブジェクトになるので、軸情報などを受け継いでくれます。\n",
    "\n",
    "\n",
    "### xr.Dataset\n",
    "xr.DataArray を複数保持するオブジェクトです。\n",
    "複数の軸を有することができて、各データがどの軸に対応するかの情報を保有しておいてくれます。\n",
    "\n",
    "辞書オブジェクトのようにアクセスすることができます。\n",
    "例えば、内部に温度 T と密度 N の情報を有するxr.Datasetでは\n",
    "data['T'] とすると、温度 T がxr.DataArrayとして戻ってきます。"
   ]
  },
  {
   "cell_type": "markdown",
   "metadata": {},
   "source": [
    "# xr.DataArray の使い方\n",
    "\n",
    "これは`pandas`における`DataSeries`に似た役割のものです。\n",
    "データの値自体と、軸のデータを有しています。\n",
    "\n",
    "## インスタンス化"
   ]
  },
  {
   "cell_type": "code",
   "execution_count": 2,
   "metadata": {
    "ExecuteTime": {
     "end_time": "2017-02-15T09:24:11.945350",
     "start_time": "2017-02-15T09:24:11.942178"
    },
    "collapsed": true
   },
   "outputs": [],
   "source": [
    "data = xr.DataArray(np.random.randn(2, 3))"
   ]
  },
  {
   "cell_type": "markdown",
   "metadata": {},
   "source": [
    "とすると、軸情報のない2x3の xr.DataArray オブジェクトを作成できます。\n",
    "\n",
    "`print` メソッドで作成したオブジェクトの概要を表示できます。"
   ]
  },
  {
   "cell_type": "code",
   "execution_count": 3,
   "metadata": {
    "ExecuteTime": {
     "end_time": "2017-02-15T09:24:11.960612",
     "start_time": "2017-02-15T09:24:11.947395"
    },
    "collapsed": false
   },
   "outputs": [
    {
     "name": "stdout",
     "output_type": "stream",
     "text": [
      "<xarray.DataArray (dim_0: 2, dim_1: 3)>\n",
      "array([[ 0.32853 , -1.010702,  1.220686],\n",
      "       [ 0.877681,  1.180265, -0.963936]])\n",
      "Dimensions without coordinates: dim_0, dim_1\n"
     ]
    }
   ],
   "source": [
    "print(data)"
   ]
  },
  {
   "cell_type": "markdown",
   "metadata": {},
   "source": [
    "今回のように軸を明示的に指定しなかった場合、dim_0, dim_1が自動的に割り振られます。"
   ]
  },
  {
   "cell_type": "markdown",
   "metadata": {},
   "source": [
    "例えば、あるデータ`data_np`の一次元目が空間位置x、二次元目が時刻tに対応する場合を考えます。"
   ]
  },
  {
   "cell_type": "code",
   "execution_count": 4,
   "metadata": {
    "ExecuteTime": {
     "end_time": "2017-02-15T09:24:11.968814",
     "start_time": "2017-02-15T09:24:11.962589"
    },
    "collapsed": true
   },
   "outputs": [],
   "source": [
    "#例データ\n",
    "data_np = np.random.randn(5,4)\n",
    "x_axis = np.linspace(0.0, 1.0, 5)\n",
    "t_axis = np.linspace(0.0, 2.0, 4)"
   ]
  },
  {
   "cell_type": "code",
   "execution_count": 5,
   "metadata": {
    "ExecuteTime": {
     "end_time": "2017-02-15T09:24:11.978055",
     "start_time": "2017-02-15T09:24:11.971805"
    },
    "collapsed": true
   },
   "outputs": [],
   "source": [
    "data = xr.DataArray(data_np, dims=['x','t'], \n",
    "                    coords={'x':x_axis, 't':t_axis}, \n",
    "                    name='some_measurement')"
   ]
  },
  {
   "cell_type": "markdown",
   "metadata": {},
   "source": [
    "というように、\n",
    "+ `dims` にdata_npの各次元に対応するラベルをリスト（もしくはタプル）で、\n",
    "+ `coords` に軸ラベルとそれに対応するデータを辞書型で与えます。"
   ]
  },
  {
   "cell_type": "code",
   "execution_count": 6,
   "metadata": {
    "ExecuteTime": {
     "end_time": "2017-02-15T09:24:12.010325",
     "start_time": "2017-02-15T09:24:11.980143"
    },
    "collapsed": false
   },
   "outputs": [
    {
     "name": "stdout",
     "output_type": "stream",
     "text": [
      "<xarray.DataArray 'some_measurement' (x: 5, t: 4)>\n",
      "array([[ 1.089975,  0.343039, -0.521509,  0.02816 ],\n",
      "       [ 1.117389,  0.589563, -1.030908, -0.023295],\n",
      "       [ 0.403413, -0.157136, -0.175684, -0.743779],\n",
      "       [ 0.814334,  0.164875, -0.489531, -0.335251],\n",
      "       [ 0.009115,  0.294526,  0.693384, -1.046416]])\n",
      "Coordinates:\n",
      "  * t        (t) float64 0.0 0.6667 1.333 2.0\n",
      "  * x        (x) float64 0.0 0.25 0.5 0.75 1.0\n"
     ]
    }
   ],
   "source": [
    "print(data)"
   ]
  },
  {
   "cell_type": "markdown",
   "metadata": {},
   "source": [
    "表示された概要のうち\n",
    "> `<xarray.DataArray 'some_measurement' (x: 5, t: 4)>`\n",
    "\n",
    "は, このDataArray は`some_measurement`という名前の 5x4 の行列で、１次元目の軸ラベルが'x'に、２次元目の軸ラベルが't'に対応していることを示しています。\n",
    "\n",
    "また、\n",
    "> `Coordinates:`\n",
    "\n",
    "以下は、軸データの一覧を示しています。"
   ]
  },
  {
   "cell_type": "markdown",
   "metadata": {},
   "source": [
    "## 軸情報\n",
    "\n",
    "軸一覧には`dims`によりアクセスすることができます。  \n",
    "なお、ここで表示される順序が、本来のデータの何時限目の軸に対応しているかを示しています。"
   ]
  },
  {
   "cell_type": "code",
   "execution_count": 7,
   "metadata": {
    "collapsed": false
   },
   "outputs": [
    {
     "data": {
      "text/plain": [
       "('x', 't')"
      ]
     },
     "execution_count": 7,
     "metadata": {},
     "output_type": "execute_result"
    }
   ],
   "source": [
    "data.dims"
   ]
  },
  {
   "cell_type": "markdown",
   "metadata": {},
   "source": [
    "軸の値にアクセスするには、ラベル名を引数にします。"
   ]
  },
  {
   "cell_type": "code",
   "execution_count": 8,
   "metadata": {
    "collapsed": false
   },
   "outputs": [
    {
     "data": {
      "text/plain": [
       "<xarray.DataArray 'x' (x: 5)>\n",
       "array([ 0.  ,  0.25,  0.5 ,  0.75,  1.  ])\n",
       "Coordinates:\n",
       "  * x        (x) float64 0.0 0.25 0.5 0.75 1.0"
      ]
     },
     "execution_count": 8,
     "metadata": {},
     "output_type": "execute_result"
    }
   ],
   "source": [
    "data['x']"
   ]
  },
  {
   "cell_type": "markdown",
   "metadata": {},
   "source": [
    "## インデクシング\n",
    "\n",
    "xarray は複数の種類のインデクシングをサポートしています。pandasの仕組みを用いているのでpandasと同様に高速です。"
   ]
  },
  {
   "cell_type": "markdown",
   "metadata": {},
   "source": [
    "### numpy 風のアクセス"
   ]
  },
  {
   "cell_type": "code",
   "execution_count": 9,
   "metadata": {
    "ExecuteTime": {
     "end_time": "2017-02-15T09:24:12.031271",
     "start_time": "2017-02-15T09:24:12.012682"
    },
    "collapsed": false
   },
   "outputs": [
    {
     "data": {
      "text/plain": [
       "<xarray.DataArray 'some_measurement' ()>\n",
       "array(0.3430393695918721)\n",
       "Coordinates:\n",
       "    t        float64 0.6667\n",
       "    x        float64 0.0"
      ]
     },
     "execution_count": 9,
     "metadata": {},
     "output_type": "execute_result"
    }
   ],
   "source": [
    "data[0,1]"
   ]
  },
  {
   "cell_type": "markdown",
   "metadata": {},
   "source": [
    "array-likeなので通常の行列のようにアクセスできます。\n",
    "その時の軸情報を引き継がれます。"
   ]
  },
  {
   "cell_type": "markdown",
   "metadata": {},
   "source": [
    "### positional インデクシング\n",
    "\n",
    "`.loc`メソッドを使うことで、軸データに沿った位置を指定してアクセスできます。"
   ]
  },
  {
   "cell_type": "code",
   "execution_count": 10,
   "metadata": {
    "ExecuteTime": {
     "end_time": "2017-02-15T09:24:12.055394",
     "start_time": "2017-02-15T09:24:12.033521"
    },
    "collapsed": false
   },
   "outputs": [
    {
     "data": {
      "text/plain": [
       "<xarray.DataArray 'some_measurement' (x: 3, t: 2)>\n",
       "array([[ 1.089975,  0.343039],\n",
       "       [ 1.117389,  0.589563],\n",
       "       [ 0.403413, -0.157136]])\n",
       "Coordinates:\n",
       "  * t        (t) float64 0.0 0.6667\n",
       "  * x        (x) float64 0.0 0.25 0.5"
      ]
     },
     "execution_count": 10,
     "metadata": {},
     "output_type": "execute_result"
    }
   ],
   "source": [
    "data.loc[0:0.5, :1.0]"
   ]
  },
  {
   "cell_type": "markdown",
   "metadata": {},
   "source": [
    "`.loc[0:0.5, :1.0]`\n",
    "は、１次元目の軸に沿って0 < x < 0.5  の範囲、２次元目の軸に沿って t < 1.0 の範囲のデータを切り出してくる操作です。"
   ]
  },
  {
   "cell_type": "markdown",
   "metadata": {},
   "source": [
    "### 軸ラベル名を指定したアクセス\n",
    "\n",
    "軸ラベル名を指定したアクセスには`.isel`や `.sel` メソッドを使います。"
   ]
  },
  {
   "cell_type": "markdown",
   "metadata": {},
   "source": [
    "`.isel`は軸ラベルを指定し、そのインデックスを整数で指定します。"
   ]
  },
  {
   "cell_type": "code",
   "execution_count": 11,
   "metadata": {
    "ExecuteTime": {
     "end_time": "2017-02-15T09:24:12.080224",
     "start_time": "2017-02-15T09:24:12.056800"
    },
    "collapsed": false
   },
   "outputs": [
    {
     "data": {
      "text/plain": [
       "<xarray.DataArray 'some_measurement' (x: 5)>\n",
       "array([ 0.343039,  0.589563, -0.157136,  0.164875,  0.294526])\n",
       "Coordinates:\n",
       "    t        float64 0.6667\n",
       "  * x        (x) float64 0.0 0.25 0.5 0.75 1.0"
      ]
     },
     "execution_count": 11,
     "metadata": {},
     "output_type": "execute_result"
    }
   ],
   "source": [
    "data.isel(t=1)"
   ]
  },
  {
   "cell_type": "markdown",
   "metadata": {},
   "source": [
    "`.sel`は軸ラベルと、その軸値を指定します。"
   ]
  },
  {
   "cell_type": "code",
   "execution_count": 12,
   "metadata": {
    "ExecuteTime": {
     "end_time": "2017-02-15T09:24:12.091805",
     "start_time": "2017-02-15T09:24:12.082280"
    },
    "collapsed": false
   },
   "outputs": [
    {
     "data": {
      "text/plain": [
       "<xarray.DataArray 'some_measurement' (x: 5, t: 3)>\n",
       "array([[ 0.343039, -0.521509,  0.02816 ],\n",
       "       [ 0.589563, -1.030908, -0.023295],\n",
       "       [-0.157136, -0.175684, -0.743779],\n",
       "       [ 0.164875, -0.489531, -0.335251],\n",
       "       [ 0.294526,  0.693384, -1.046416]])\n",
       "Coordinates:\n",
       "  * t        (t) float64 0.6667 1.333 2.0\n",
       "  * x        (x) float64 0.0 0.25 0.5 0.75 1.0"
      ]
     },
     "execution_count": 12,
     "metadata": {},
     "output_type": "execute_result"
    }
   ],
   "source": [
    "data.sel(t=slice(0.5,2.0))"
   ]
  },
  {
   "cell_type": "markdown",
   "metadata": {},
   "source": [
    "## 計算"
   ]
  },
  {
   "cell_type": "markdown",
   "metadata": {},
   "source": [
    "np.ndarray 風の操作を数多くサポートしています。"
   ]
  },
  {
   "cell_type": "markdown",
   "metadata": {},
   "source": [
    "ブロードキャストを含めた基本的な演算をサポートしています。"
   ]
  },
  {
   "cell_type": "code",
   "execution_count": 13,
   "metadata": {
    "ExecuteTime": {
     "end_time": "2017-02-15T09:24:12.113385",
     "start_time": "2017-02-15T09:24:12.093379"
    },
    "collapsed": false
   },
   "outputs": [
    {
     "data": {
      "text/plain": [
       "<xarray.DataArray 'some_measurement' (x: 5, t: 4)>\n",
       "array([[ 11.089975,  10.343039,   9.478491,  10.02816 ],\n",
       "       [ 11.117389,  10.589563,   8.969092,   9.976705],\n",
       "       [ 10.403413,   9.842864,   9.824316,   9.256221],\n",
       "       [ 10.814334,  10.164875,   9.510469,   9.664749],\n",
       "       [ 10.009115,  10.294526,  10.693384,   8.953584]])\n",
       "Coordinates:\n",
       "  * t        (t) float64 0.0 0.6667 1.333 2.0\n",
       "  * x        (x) float64 0.0 0.25 0.5 0.75 1.0"
      ]
     },
     "execution_count": 13,
     "metadata": {},
     "output_type": "execute_result"
    }
   ],
   "source": [
    "data+10"
   ]
  },
  {
   "cell_type": "markdown",
   "metadata": {},
   "source": [
    "要素ごとの計算では、これらの情報を引き継げます。"
   ]
  },
  {
   "cell_type": "code",
   "execution_count": 14,
   "metadata": {
    "ExecuteTime": {
     "end_time": "2017-02-15T09:24:12.134374",
     "start_time": "2017-02-15T09:24:12.115065"
    },
    "collapsed": false
   },
   "outputs": [
    {
     "data": {
      "text/plain": [
       "<xarray.DataArray 'some_measurement' (x: 5, t: 4)>\n",
       "array([[ 0.886616,  0.336351, -0.498189,  0.028156],\n",
       "       [ 0.89896 ,  0.555998, -0.857766, -0.023293],\n",
       "       [ 0.39256 , -0.15649 , -0.174781, -0.677074],\n",
       "       [ 0.727269,  0.164129, -0.470212, -0.329006],\n",
       "       [ 0.009114,  0.290286,  0.639144, -0.865635]])\n",
       "Coordinates:\n",
       "  * t        (t) float64 0.0 0.6667 1.333 2.0\n",
       "  * x        (x) float64 0.0 0.25 0.5 0.75 1.0"
      ]
     },
     "execution_count": 14,
     "metadata": {},
     "output_type": "execute_result"
    }
   ],
   "source": [
    "np.sin(data)"
   ]
  },
  {
   "cell_type": "markdown",
   "metadata": {
    "collapsed": true
   },
   "source": [
    "# xr.Dataset の使い方\n",
    "\n",
    "`xr.Dataset` は、複数の`xr.DataArray`をひとまとめにしたオブジェクトです。\n",
    "\n",
    "特に、軸を共有する`xr.DataArray`に対して、一気にインデクシングやスライシングを施すことができます。\n",
    "1つの計測器が複数種類の信号を出力することもあると思いますが、\n",
    "そのような**多次元**情報を扱うのに適したものとなっています。\n",
    "\n",
    "これは`pandas`における`DataFrame`に似た役割のものです。"
   ]
  },
  {
   "cell_type": "markdown",
   "metadata": {},
   "source": [
    "## インスタンス化\n",
    "\n",
    "ひとつ目の引数は`data_vars`は`dict`-like です。\n",
    "key には格納する data の名前、要素には 2要素のタプルを渡します。\n",
    "タプルのひとつ目の要素は、そのデータに対応する軸ラベルを、ふたつ目の要素にはデータ(`array`-like)を渡します。\n",
    "\n",
    "軸データを格納するには`coords`に`dict`-like を渡します。\n",
    "キーには軸のラベル、要素には軸の値を渡します。"
   ]
  },
  {
   "cell_type": "code",
   "execution_count": 15,
   "metadata": {
    "collapsed": false
   },
   "outputs": [],
   "source": [
    "ds = xr.Dataset({'data1': (['x','t'], np.random.randn(5,4)), 'data2': (['x','t'], np.random.randn(5,4))}, \n",
    "                coords={'x': x_axis, 't': t_axis})"
   ]
  },
  {
   "cell_type": "code",
   "execution_count": 16,
   "metadata": {
    "collapsed": false
   },
   "outputs": [
    {
     "data": {
      "text/plain": [
       "<xarray.Dataset>\n",
       "Dimensions:  (t: 4, x: 5)\n",
       "Coordinates:\n",
       "  * t        (t) float64 0.0 0.6667 1.333 2.0\n",
       "  * x        (x) float64 0.0 0.25 0.5 0.75 1.0\n",
       "Data variables:\n",
       "    data1    (x, t) float64 -1.091 -1.851 0.343 2.077 1.477 0.0009389 1.358 ...\n",
       "    data2    (x, t) float64 0.4852 -0.5463 -0.22 -1.357 -1.416 -0.4929 ..."
      ]
     },
     "execution_count": 16,
     "metadata": {},
     "output_type": "execute_result"
    }
   ],
   "source": [
    "ds"
   ]
  },
  {
   "cell_type": "markdown",
   "metadata": {},
   "source": [
    "中身にアクセスするためには、ラベル名を`[]`内に渡します。\n",
    "その場合、戻り値は`xr.DataArray`になります。"
   ]
  },
  {
   "cell_type": "code",
   "execution_count": 17,
   "metadata": {
    "collapsed": false
   },
   "outputs": [
    {
     "data": {
      "text/plain": [
       "<xarray.DataArray 'data1' (x: 5, t: 4)>\n",
       "array([[ -1.091230e+00,  -1.851416e+00,   3.429677e-01,   2.077113e+00],\n",
       "       [  1.476765e+00,   9.389425e-04,   1.358136e+00,  -1.627471e+00],\n",
       "       [ -2.007550e-01,   1.008126e-01,   7.177067e-01,   8.893402e-01],\n",
       "       [ -1.813395e-01,  -3.407015e-01,  -9.673550e-01,   1.135727e+00],\n",
       "       [  2.423873e-01,  -1.198268e+00,   1.650465e+00,  -1.923102e-01]])\n",
       "Coordinates:\n",
       "  * t        (t) float64 0.0 0.6667 1.333 2.0\n",
       "  * x        (x) float64 0.0 0.25 0.5 0.75 1.0"
      ]
     },
     "execution_count": 17,
     "metadata": {},
     "output_type": "execute_result"
    }
   ],
   "source": [
    "ds['data1']"
   ]
  },
  {
   "cell_type": "markdown",
   "metadata": {},
   "source": [
    "軸にもラベルでアクセスできます。"
   ]
  },
  {
   "cell_type": "code",
   "execution_count": 18,
   "metadata": {
    "collapsed": false
   },
   "outputs": [
    {
     "data": {
      "text/plain": [
       "<xarray.DataArray 'x' (x: 5)>\n",
       "array([ 0.  ,  0.25,  0.5 ,  0.75,  1.  ])\n",
       "Coordinates:\n",
       "  * x        (x) float64 0.0 0.25 0.5 0.75 1.0"
      ]
     },
     "execution_count": 18,
     "metadata": {},
     "output_type": "execute_result"
    }
   ],
   "source": [
    "ds['x']"
   ]
  },
  {
   "cell_type": "markdown",
   "metadata": {},
   "source": [
    "## xr.Dataset のインデクシング\n",
    "\n",
    "指標アクセスには`isel`を用います。  \n",
    "x 軸に沿った1番目の要素にアクセスするには、以下のように、軸ラベル名とそれに対応するインデックスを指定します。"
   ]
  },
  {
   "cell_type": "code",
   "execution_count": 19,
   "metadata": {
    "collapsed": false
   },
   "outputs": [
    {
     "data": {
      "text/plain": [
       "<xarray.Dataset>\n",
       "Dimensions:  (t: 4)\n",
       "Coordinates:\n",
       "  * t        (t) float64 0.0 0.6667 1.333 2.0\n",
       "    x        float64 0.25\n",
       "Data variables:\n",
       "    data1    (t) float64 1.477 0.0009389 1.358 -1.627\n",
       "    data2    (t) float64 -1.416 -0.4929 0.4926 -0.7186"
      ]
     },
     "execution_count": 19,
     "metadata": {},
     "output_type": "execute_result"
    }
   ],
   "source": [
    "ds.isel(x=1)"
   ]
  },
  {
   "cell_type": "markdown",
   "metadata": {},
   "source": [
    "もちろん 複数の軸も指定できて"
   ]
  },
  {
   "cell_type": "code",
   "execution_count": 20,
   "metadata": {
    "collapsed": false
   },
   "outputs": [
    {
     "data": {
      "text/plain": [
       "<xarray.Dataset>\n",
       "Dimensions:  ()\n",
       "Coordinates:\n",
       "    t        float64 1.333\n",
       "    x        float64 0.25\n",
       "Data variables:\n",
       "    data1    float64 1.358\n",
       "    data2    float64 0.4926"
      ]
     },
     "execution_count": 20,
     "metadata": {},
     "output_type": "execute_result"
    }
   ],
   "source": [
    "ds.isel(x=1, t=2)"
   ]
  },
  {
   "cell_type": "markdown",
   "metadata": {},
   "source": [
    "スライスにも対応しています。"
   ]
  },
  {
   "cell_type": "code",
   "execution_count": 21,
   "metadata": {
    "collapsed": false
   },
   "outputs": [
    {
     "data": {
      "text/plain": [
       "<xarray.Dataset>\n",
       "Dimensions:  (x: 2)\n",
       "Coordinates:\n",
       "    t        float64 1.333\n",
       "  * x        (x) float64 0.0 0.25\n",
       "Data variables:\n",
       "    data1    (x) float64 0.343 1.358\n",
       "    data2    (x) float64 -0.22 0.4926"
      ]
     },
     "execution_count": 21,
     "metadata": {},
     "output_type": "execute_result"
    }
   ],
   "source": [
    "ds.isel(x=slice(0,2,1), t=2)"
   ]
  },
  {
   "cell_type": "markdown",
   "metadata": {},
   "source": [
    "### 位置インデクシング\n",
    "\n",
    "位置インデクシングには`.sel`メソッドを使います。\n",
    "`.isel`と同じように、軸ラベル名と今度は軸の値を指定します。"
   ]
  },
  {
   "cell_type": "code",
   "execution_count": 22,
   "metadata": {
    "collapsed": false
   },
   "outputs": [
    {
     "data": {
      "text/plain": [
       "<xarray.Dataset>\n",
       "Dimensions:  (t: 4)\n",
       "Coordinates:\n",
       "  * t        (t) float64 0.0 0.6667 1.333 2.0\n",
       "    x        float64 0.0\n",
       "Data variables:\n",
       "    data1    (t) float64 -1.091 -1.851 0.343 2.077\n",
       "    data2    (t) float64 0.4852 -0.5463 -0.22 -1.357"
      ]
     },
     "execution_count": 22,
     "metadata": {},
     "output_type": "execute_result"
    }
   ],
   "source": [
    "ds.sel(x=0.0)"
   ]
  },
  {
   "cell_type": "markdown",
   "metadata": {},
   "source": [
    "デフォルトでは厳密に値が一致したものが帰ってきますが、`method`オプションで指定できます。\n",
    "最寄値が欲しい場合は`method='nearest'`とします。"
   ]
  },
  {
   "cell_type": "code",
   "execution_count": 23,
   "metadata": {
    "collapsed": false
   },
   "outputs": [
    {
     "data": {
      "text/plain": [
       "<xarray.Dataset>\n",
       "Dimensions:  (t: 4)\n",
       "Coordinates:\n",
       "  * t        (t) float64 0.0 0.6667 1.333 2.0\n",
       "    x        float64 0.5\n",
       "Data variables:\n",
       "    data1    (t) float64 -0.2008 0.1008 0.7177 0.8893\n",
       "    data2    (t) float64 -0.03163 0.6942 0.8194 -2.93"
      ]
     },
     "execution_count": 23,
     "metadata": {},
     "output_type": "execute_result"
    }
   ],
   "source": [
    "# x = 0.4 に最もxが近い値を返す。\n",
    "ds.sel(x=0.4, method='nearest')"
   ]
  },
  {
   "cell_type": "markdown",
   "metadata": {},
   "source": [
    "スライスオブジェクトを渡すことも可能です。"
   ]
  },
  {
   "cell_type": "code",
   "execution_count": 24,
   "metadata": {
    "collapsed": false
   },
   "outputs": [
    {
     "data": {
      "text/plain": [
       "<xarray.Dataset>\n",
       "Dimensions:  (t: 4, x: 3)\n",
       "Coordinates:\n",
       "  * t        (t) float64 0.0 0.6667 1.333 2.0\n",
       "  * x        (x) float64 0.0 0.25 0.5\n",
       "Data variables:\n",
       "    data1    (x, t) float64 -1.091 -1.851 0.343 2.077 1.477 0.0009389 1.358 ...\n",
       "    data2    (x, t) float64 0.4852 -0.5463 -0.22 -1.357 -1.416 -0.4929 ..."
      ]
     },
     "execution_count": 24,
     "metadata": {},
     "output_type": "execute_result"
    }
   ],
   "source": [
    "ds.sel(x=slice(0,0.5))"
   ]
  },
  {
   "cell_type": "code",
   "execution_count": null,
   "metadata": {
    "collapsed": true
   },
   "outputs": [],
   "source": []
  }
 ],
 "metadata": {
  "anaconda-cloud": {},
  "kernelspec": {
   "display_name": "Python [tensorflow]",
   "language": "python",
   "name": "Python [tensorflow]"
  },
  "language_info": {
   "codemirror_mode": {
    "name": "ipython",
    "version": 3
   },
   "file_extension": ".py",
   "mimetype": "text/x-python",
   "name": "python",
   "nbconvert_exporter": "python",
   "pygments_lexer": "ipython3",
   "version": "3.5.2"
  },
  "latex_envs": {
   "bibliofile": "biblio.bib",
   "cite_by": "apalike",
   "current_citInitial": 1,
   "eqLabelWithNumbers": true,
   "eqNumInitial": 0
  },
  "toc": {
   "toc_cell": false,
   "toc_number_sections": true,
   "toc_threshold": 6,
   "toc_window_display": false
  }
 },
 "nbformat": 4,
 "nbformat_minor": 1
}
